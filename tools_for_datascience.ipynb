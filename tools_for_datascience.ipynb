{
 "cells": [
  {
   "cell_type": "markdown",
   "id": "e6e0c23c",
   "metadata": {},
   "source": [
    "# Tools for Data Science"
   ]
  },
  {
   "cell_type": "markdown",
   "id": "448937c7",
   "metadata": {},
   "source": [
    "This is a notebook about tools for Data Science. "
   ]
  },
  {
   "cell_type": "markdown",
   "id": "9cd79b0e",
   "metadata": {},
   "source": [
    "Some Data Science langauges are:\n",
    "- Python\n",
    "- R\n",
    "- SQL"
   ]
  },
  {
   "cell_type": "markdown",
   "id": "17761d5c",
   "metadata": {},
   "source": [
    "These are some data science libraries:\n",
    "- Pandas\n",
    "- NumPy\n",
    "- Matplotlib\n",
    "- Scikit-Learn\n",
    "- TensorFlow"
   ]
  },
  {
   "cell_type": "markdown",
   "id": "3e96fb90",
   "metadata": {},
   "source": [
    "Some data science tools are:\n",
    "\n",
    "| Tool          | Description                                  |\n",
    "|---------------|----------------------------------------------|\n",
    "| Jupyter       | Interactive notebooks for data analysis     |\n",
    "| RStudio       | Integrated development environment for R    |\n",
    "| Anaconda      | Distribution of Python and R for data science|\n",
    "| Tableau       | Data visualization software                 |"
   ]
  },
  {
   "cell_type": "markdown",
   "id": "517ccc6a",
   "metadata": {},
   "source": [
    "Here are some examples of arithmetic expressions in Python:\n",
    "### Addition\n",
    "2 + 3\n",
    "\n",
    "### Multiplication\n",
    "4 * 5"
   ]
  },
  {
   "cell_type": "code",
   "execution_count": 8,
   "id": "d5aadfc8",
   "metadata": {},
   "outputs": [
    {
     "data": {
      "text/plain": [
       "(5, 6)"
      ]
     },
     "execution_count": 8,
     "metadata": {},
     "output_type": "execute_result"
    }
   ],
   "source": [
    "a=2\n",
    "b=3\n",
    "add=a+b\n",
    "mul=a*b\n",
    "add, mul"
   ]
  },
  {
   "cell_type": "code",
   "execution_count": 10,
   "id": "dcda7b11",
   "metadata": {},
   "outputs": [
    {
     "data": {
      "text/plain": [
       "1.5"
      ]
     },
     "execution_count": 10,
     "metadata": {},
     "output_type": "execute_result"
    }
   ],
   "source": [
    "min=90\n",
    "hour = min/60\n",
    "hour"
   ]
  },
  {
   "cell_type": "markdown",
   "id": "5607878b",
   "metadata": {},
   "source": [
    "In this notebook, I aim to:\n",
    "- Demonstrate the use of Markdown in Jupyter notebooks\n",
    "- Show examples of basic Python code\n",
    "- Highlight common data science tools and libraries"
   ]
  },
  {
   "cell_type": "markdown",
   "id": "52a65b3c",
   "metadata": {},
   "source": [
    "## Jiin Min"
   ]
  }
 ],
 "metadata": {
  "kernelspec": {
   "display_name": "Python 3 (ipykernel)",
   "language": "python",
   "name": "python3"
  },
  "language_info": {
   "codemirror_mode": {
    "name": "ipython",
    "version": 3
   },
   "file_extension": ".py",
   "mimetype": "text/x-python",
   "name": "python",
   "nbconvert_exporter": "python",
   "pygments_lexer": "ipython3",
   "version": "3.11.1"
  }
 },
 "nbformat": 4,
 "nbformat_minor": 5
}
